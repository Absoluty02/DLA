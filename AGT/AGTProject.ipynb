{
  "nbformat": 4,
  "nbformat_minor": 0,
  "metadata": {
    "colab": {
      "provenance": []
    },
    "kernelspec": {
      "name": "python3",
      "display_name": "Python 3"
    },
    "language_info": {
      "name": "python"
    }
  },
  "cells": [
    {
      "cell_type": "markdown",
      "source": [
        "# Algorithmic Game Theory\n",
        "\n",
        "\n",
        "\n"
      ],
      "metadata": {
        "id": "IlHBWTJVl_uI"
      }
    },
    {
      "cell_type": "code",
      "execution_count": null,
      "metadata": {
        "id": "tIW1dWPel-kA"
      },
      "outputs": [],
      "source": [
        "agents_skills = {\n",
        "    '1': ['s1'],\n",
        "    '2': ['s1', 's2'],\n",
        "    '3': ['s1', 's2'],\n",
        "    '4': ['s3'],\n",
        "}\n",
        "\n",
        "characteristic_function = {\n",
        "    frozenset(['1']): 0,\n",
        "    frozenset(['2']): 0,\n",
        "    frozenset(['3']): 0,\n",
        "    frozenset(['1', '2']): 0,\n",
        "    frozenset(['1', '3']): 0,\n",
        "    frozenset(['1', '4']): 0,\n",
        "    frozenset(['2', '3']): 0,\n",
        "    frozenset(['2', '4']): 100,\n",
        "    frozenset(['3', '4']): 100,\n",
        "    frozenset(['1', '2', '3']): 0,\n",
        "    frozenset(['1', '2', '4']): 100,\n",
        "    frozenset(['1', '3', '4']): 100,\n",
        "    frozenset(['2', '3', '4']): 100,\n",
        "    frozenset(['1', '2', '3', '4']): 100,\n",
        "}"
      ]
    }
  ]
}