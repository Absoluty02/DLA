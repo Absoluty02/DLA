{
  "nbformat": 4,
  "nbformat_minor": 0,
  "metadata": {
    "colab": {
      "provenance": []
    },
    "kernelspec": {
      "name": "python3",
      "display_name": "Python 3"
    },
    "language_info": {
      "name": "python"
    }
  },
  "cells": [
    {
      "cell_type": "markdown",
      "source": [
        "# Algorithmic Game Theory\n",
        "\n",
        "Students:\n",
        "\n",
        "- **Emanuele Conforti (252122)**\n",
        "- **Jacopo Garofalo (252093)**\n",
        "- **Gianmarco La Marca (252256)**\n",
        "\n",
        "## **Assignment**\n",
        "\n",
        "Consider a setting with a set N={1,2,…,n} of agents and with a set S = {s_1,...,s_m} of skills. Each agent i ∈ N is associated with a set of skills denoted by S_i ⊆ S. Note that there is no a-priori specified number of skills that each agent owns; for instance, an agent might have just one skill, while another might have all the available skills. In fact, there is a task t to be completed and all the skills in S are required to this end. Hence, agents are required to collaborate with each other and a number of strategic issues come into play.\n",
        "\n",
        "For each of the following questions, implement in Python a method that can provide results for any possible pair N,S. Report then the results obtained over the instance, with 4 agents and 3 skills, graphically depicted below according to an intuitive notation (an edge means that the agent owns the corresponding skill)."
      ],
      "metadata": {
        "id": "IlHBWTJVl_uI"
      }
    },
    {
      "cell_type": "code",
      "execution_count": 58,
      "metadata": {
        "id": "tIW1dWPel-kA"
      },
      "outputs": [],
      "source": [
        "agents = frozenset(['1', '2', '3', '4'])\n",
        "\n",
        "skills_map = {\n",
        "    '1': ['s1'],\n",
        "    '2': ['s1', 's2'],\n",
        "    '3': ['s1', 's2'],\n",
        "    '4': ['s3'],\n",
        "}\n",
        "\n",
        "v = {\n",
        "    frozenset(['1']): 0,\n",
        "    frozenset(['2']): 0,\n",
        "    frozenset(['3']): 0,\n",
        "    frozenset(['4']): 0,\n",
        "    frozenset(['1', '2']): 0,\n",
        "    frozenset(['1', '3']): 0,\n",
        "    frozenset(['1', '4']): 0,\n",
        "    frozenset(['2', '3']): 0,\n",
        "    frozenset(['2', '4']): 100,\n",
        "    frozenset(['3', '4']): 100,\n",
        "    frozenset(['1', '2', '3']): 0,\n",
        "    frozenset(['1', '2', '4']): 100,\n",
        "    frozenset(['1', '3', '4']): 100,\n",
        "    frozenset(['2', '3', '4']): 100,\n",
        "    frozenset(['1', '2', '3', '4']): 100,\n",
        "}"
      ]
    },
    {
      "cell_type": "markdown",
      "source": [
        "## **Task 1**\n",
        "\n",
        "Assume that completing the task t leads to a reward of 100$. Then, compute the Shapley value associated with the agents as a fair way to distribute that reward among them. And, finally, check whether the Shapley value is in the core of the coalitional game induced by the setting."
      ],
      "metadata": {
        "id": "cNmggl-pBEyi"
      }
    },
    {
      "cell_type": "markdown",
      "source": [
        "### **Shapley value**"
      ],
      "metadata": {
        "id": "fX_kynYNCILC"
      }
    },
    {
      "cell_type": "code",
      "source": [
        "from math import factorial\n",
        "from itertools import combinations\n",
        "\n",
        "\n",
        "# A function to generate the powerset: it returns a list of 2^(n-1) frozen sets\n",
        "def powerset(List):\n",
        "    subs = [frozenset(j) for i in range(len(List)) for j in combinations(List, i+1)]\n",
        "    return subs\n",
        "\n",
        "# We now implement the Shapley value for a given player, using the second equation\n",
        "def shapley_value(players, player, characteristic_function):\n",
        "    power_set = powerset(players - {player})\n",
        "    shapley = 0\n",
        "\n",
        "    for c in power_set:\n",
        "        first_part = factorial(len(c)) * factorial(len(players) - len(c) - 1)\n",
        "        second_part = first_part / factorial(len(players))\n",
        "        third_part = characteristic_function[c.union(player)] - characteristic_function[c]\n",
        "        shapley += second_part * third_part\n",
        "\n",
        "    return shapley\n",
        "\n",
        "# This function returns a dictionary with the Shapley value for each player\n",
        "def shapley(players, characteristic_function):\n",
        "    # To get the grand coalition from the characteristic function, we can use the function max\n",
        "    return {player: shapley_value(players, player, characteristic_function) for player in max(characteristic_function)}"
      ],
      "metadata": {
        "id": "ZVJYowxEB16-"
      },
      "execution_count": 59,
      "outputs": []
    },
    {
      "cell_type": "code",
      "source": [
        "shapley_values = shapley(agents, v)\n",
        "\n",
        "print(shapley_values)"
      ],
      "metadata": {
        "colab": {
          "base_uri": "https://localhost:8080/"
        },
        "id": "GD2Ozpp8PoME",
        "outputId": "58f3af89-10f8-41d6-ee1c-64d6629db712"
      },
      "execution_count": 60,
      "outputs": [
        {
          "output_type": "stream",
          "name": "stdout",
          "text": [
            "{'4': 66.66666666666666, '3': 16.666666666666664, '2': 16.666666666666664, '1': 0.0}\n"
          ]
        }
      ]
    },
    {
      "cell_type": "markdown",
      "source": [
        "### **Core**"
      ],
      "metadata": {
        "id": "yUiRAK6OCa4a"
      }
    },
    {
      "cell_type": "code",
      "source": [
        "def is_positive(outcome):\n",
        "    for i in outcome.values():\n",
        "        if i < 0:\n",
        "            return False\n",
        "    return True\n",
        "\n",
        "def is_efficient(outcome, characteristic_function, players):\n",
        "    grand_coalition = characteristic_function[frozenset(players)]\n",
        "    sum = 0\n",
        "    for i in outcome.values():\n",
        "        sum += i\n",
        "    print(\"sum: \", sum)\n",
        "    print(\"sum truncate: \", int(sum))\n",
        "    print(\"correct sum rounding: \", round(sum))\n",
        "    # we use the function round() for a correct rounding\n",
        "    return round(sum) == grand_coalition\n",
        "\n",
        "\n",
        "# This function checks if an outcome for a given game is stable\n",
        "def is_stable(outcome, characteristic_function):\n",
        "    for c in characteristic_function.keys():\n",
        "        sum = 0\n",
        "        for i in c:\n",
        "            sum += outcome[i]\n",
        "        if sum < characteristic_function[c]:\n",
        "            print(\"c: \", c)\n",
        "            print(\"sum: \", sum)\n",
        "            print(\"characteristic_function[c]: \", characteristic_function[c])\n",
        "            return False\n",
        "\n",
        "    return True\n",
        "\n",
        "\n",
        "# This function applies the definition of core to check whether an outcome is in the core of a game\n",
        "def is_in_the_core(outcome, characteristic_function, players):\n",
        "    print(\"is_positive: \", is_positive(outcome))\n",
        "    print(\"--------------------------\")\n",
        "    print(\"is_efficient: \", is_efficient(outcome, characteristic_function, players))\n",
        "    print(\"--------------------------\")\n",
        "    print(\"is_stable: \", is_stable(outcome, characteristic_function))\n",
        "    print(\"--------------------------\")\n",
        "    return is_positive(outcome) and is_efficient(outcome, characteristic_function, players) and is_stable(outcome, characteristic_function)"
      ],
      "metadata": {
        "id": "EzTqrDekAO4R"
      },
      "execution_count": 64,
      "outputs": []
    },
    {
      "cell_type": "code",
      "source": [
        "# According to the example, the shapley values should be {'4': 66.66666666666666, '3': 16.666666666666664, '2': 16.666666666666664, '1': 0.0}\n",
        "# Hence, it should be:\n",
        "# POSITIVE: since every player outcome is >= 0,\n",
        "# EFFICIENT: since the sum of all the outcomes is equal to the characteristic_function value of the grand coalition\n",
        "# NOT STABLE: since there are some coalitions C such that, the sum of the shapley values of the players of C is < the value of the characteristic_function of C. Example: coalition {'4', '2'}\n",
        "print(is_in_the_core(shapley_values, v, agents))"
      ],
      "metadata": {
        "colab": {
          "base_uri": "https://localhost:8080/"
        },
        "id": "yEuanFVCAUVQ",
        "outputId": "63d479dc-b968-46fb-f1a5-50f27deca5e5"
      },
      "execution_count": 65,
      "outputs": [
        {
          "output_type": "stream",
          "name": "stdout",
          "text": [
            "is_positive:  True\n",
            "--------------------------\n",
            "sum:  99.99999999999997\n",
            "sum truncate:  99\n",
            "correct sum rounding:  100\n",
            "is_efficient:  True\n",
            "--------------------------\n",
            "c:  frozenset({'4', '2'})\n",
            "sum:  83.33333333333331\n",
            "characteristic_function[c]:  100\n",
            "is_stable:  False\n",
            "--------------------------\n",
            "sum:  99.99999999999997\n",
            "sum truncate:  99\n",
            "correct sum rounding:  100\n",
            "c:  frozenset({'4', '2'})\n",
            "sum:  83.33333333333331\n",
            "characteristic_function[c]:  100\n",
            "False\n"
          ]
        }
      ]
    },
    {
      "cell_type": "markdown",
      "source": [
        "## **Task 2**\n",
        "\n",
        "Assume that each agent i∈ N might freely decide whether to join the group in order to complete the task. In particular, each agent incurs a fixed cost of c_i to join the group and s/he is selfish interested, so that s/he would like that the revenue s/he gets by collaboration covers this expense (in the example, let c_1 = c_2 = 10$, c_3 = 20$, c_4 = 40$. Assume that the revenue is divided according to the Shapley value of the coalitional game induced by the agents that join the group (as in item 1). Then, check whether the resulting strategic setting, where each agent has two actions (joint, not join), admits a pure Nash equilibrium and computes one, if any.\n"
      ],
      "metadata": {
        "id": "ylZZbi-pBNC_"
      }
    },
    {
      "cell_type": "code",
      "source": [],
      "metadata": {
        "id": "GnWBnxPkBjxF"
      },
      "execution_count": null,
      "outputs": []
    },
    {
      "cell_type": "markdown",
      "source": [
        "## **Task 3**\n",
        "\n",
        "Assume that all agents participate to the setting, but they might cheat on the cost c_i, and consider a setting where a mechanism has to identify a group of agents that is capable of completing the task with the minimum overall cost. Then, compute a payment scheme that provides incentives to truthfully report such costs."
      ],
      "metadata": {
        "id": "g5W9wKVUBfBE"
      }
    },
    {
      "cell_type": "code",
      "source": [],
      "metadata": {
        "id": "5OF5lRL1BkJy"
      },
      "execution_count": null,
      "outputs": []
    }
  ]
}