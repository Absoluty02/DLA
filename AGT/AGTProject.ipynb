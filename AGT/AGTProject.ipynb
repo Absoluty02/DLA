{
  "cells": [
    {
      "cell_type": "markdown",
      "metadata": {
        "id": "IlHBWTJVl_uI"
      },
      "source": [
        "# Algorithmic Game Theory\n",
        "\n",
        "Students:\n",
        "\n",
        "- **Emanuele Conforti (252122)**\n",
        "- **Jacopo Garofalo (252093)**\n",
        "- **Gianmarco La Marca (252256)**\n",
        "\n",
        "## **Assignment**\n",
        "\n",
        "Consider a setting with a set N={1,2,…,n} of agents and with a set S = {s_1,...,s_m} of skills. Each agent i ∈ N is associated with a set of skills denoted by S_i ⊆ S. Note that there is no a-priori specified number of skills that each agent owns; for instance, an agent might have just one skill, while another might have all the available skills. In fact, there is a task t to be completed and all the skills in S are required to this end. Hence, agents are required to collaborate with each other and a number of strategic issues come into play.\n",
        "\n",
        "For each of the following questions, implement in Python a method that can provide results for any possible pair N,S. Report then the results obtained over the instance, with 4 agents and 3 skills, graphically depicted below according to an intuitive notation (an edge means that the agent owns the corresponding skill)."
      ]
    },
    {
      "cell_type": "code",
      "execution_count": 4,
      "metadata": {
        "id": "tIW1dWPel-kA"
      },
      "outputs": [],
      "source": [
        "agents = frozenset(['1', '2', '3', '4'])\n",
        "\n",
        "skills = frozenset(['s1', 's2', 's3'])\n",
        "\n",
        "skills_map = {\n",
        "    '1': ['s1'],\n",
        "    '2': ['s1', 's2'],\n",
        "    '3': ['s1', 's2'],\n",
        "    '4': ['s3'],\n",
        "}\n",
        "\n",
        "reward = 100\n",
        "\n",
        "# v = {\n",
        "#     frozenset(['1']): 0,\n",
        "#     frozenset(['2']): 0,\n",
        "#     frozenset(['3']): 0,\n",
        "#     frozenset(['4']): 0,\n",
        "#     frozenset(['1', '2']): 0,\n",
        "#     frozenset(['1', '3']): 0,\n",
        "#     frozenset(['1', '4']): 0,\n",
        "#     frozenset(['2', '3']): 0,\n",
        "#     frozenset(['2', '4']): 100,\n",
        "#     frozenset(['3', '4']): 100,\n",
        "#     frozenset(['1', '2', '3']): 0,\n",
        "#     frozenset(['1', '2', '4']): 100,\n",
        "#     frozenset(['1', '3', '4']): 100,\n",
        "#     frozenset(['2', '3', '4']): 100,\n",
        "#     frozenset(['1', '2', '3', '4']): 100,\n",
        "# }"
      ]
    },
    {
      "cell_type": "code",
      "execution_count": 7,
      "metadata": {
        "id": "mSfH1YNuRsNG"
      },
      "outputs": [],
      "source": [
        "from itertools import combinations\n",
        "\n",
        "# A function to generate the powerset: it returns a list of 2^(n-1) frozen sets\n",
        "def powerset(List):\n",
        "    subs = [frozenset(j) for i in range(len(List)) for j in combinations(List, i+1)]\n",
        "    subs.append(frozenset()) # WE NEED TO INCLUDE ALSO THE EMPTY SET\n",
        "    return subs"
      ]
    },
    {
      "cell_type": "code",
      "execution_count": 8,
      "metadata": {
        "id": "qxvGiQsRV2Ii"
      },
      "outputs": [],
      "source": [
        "# Used to calculate the characteristic function from a set of agents, a set of skills, a reward and a mapping agents -> skills\n",
        "def calculate_characteristic_function(agents, skills, agents_skills_map, reward):\n",
        "    characteristic_func = {}\n",
        "\n",
        "    for c in powerset(agents):\n",
        "        characteristic_func[c] = 0\n",
        "        covered_skills = set()\n",
        "        for agent in c:\n",
        "            covered_skills.update(agents_skills_map[agent])\n",
        "        if len(covered_skills) == len(skills):\n",
        "            characteristic_func[c] = reward\n",
        "    return characteristic_func"
      ]
    },
    {
      "cell_type": "code",
      "execution_count": 9,
      "metadata": {
        "colab": {
          "base_uri": "https://localhost:8080/"
        },
        "id": "uiNTelpv9z1R",
        "outputId": "907884dd-bb3a-4605-af7d-568fd7495d25"
      },
      "outputs": [
        {
          "name": "stdout",
          "output_type": "stream",
          "text": [
            "frozenset({'1'}): 0\n",
            "frozenset({'4'}): 0\n",
            "frozenset({'3'}): 0\n",
            "frozenset({'2'}): 0\n",
            "frozenset({'1', '4'}): 0\n",
            "frozenset({'1', '3'}): 0\n",
            "frozenset({'1', '2'}): 0\n",
            "frozenset({'4', '3'}): 100\n",
            "frozenset({'4', '2'}): 100\n",
            "frozenset({'2', '3'}): 0\n",
            "frozenset({'1', '4', '3'}): 100\n",
            "frozenset({'1', '4', '2'}): 100\n",
            "frozenset({'2', '1', '3'}): 0\n",
            "frozenset({'2', '4', '3'}): 100\n",
            "frozenset({'2', '1', '4', '3'}): 100\n",
            "frozenset(): 0\n"
          ]
        }
      ],
      "source": [
        "v = calculate_characteristic_function(agents, skills, skills_map, reward)\n",
        "print('\\n'.join(f'{k}: {v[k]}' for k in v))"
      ]
    },
    {
      "cell_type": "code",
      "execution_count": 10,
      "metadata": {
        "colab": {
          "base_uri": "https://localhost:8080/"
        },
        "id": "ZCo63rwZ92lE",
        "outputId": "8681333a-78c6-4d60-da99-c71621a63928"
      },
      "outputs": [
        {
          "data": {
            "text/plain": [
              "100"
            ]
          },
          "execution_count": 10,
          "metadata": {},
          "output_type": "execute_result"
        }
      ],
      "source": [
        "v[frozenset(['2', '4'])]"
      ]
    },
    {
      "cell_type": "markdown",
      "metadata": {
        "id": "cNmggl-pBEyi"
      },
      "source": [
        "## **Task 1**\n",
        "\n",
        "Assume that completing the task t leads to a reward of 100$. Then, compute the Shapley value associated with the agents as a fair way to distribute that reward among them. And, finally, check whether the Shapley value is in the core of the coalitional game induced by the setting."
      ]
    },
    {
      "cell_type": "markdown",
      "metadata": {
        "id": "fX_kynYNCILC"
      },
      "source": [
        "### **Shapley value**"
      ]
    },
    {
      "cell_type": "code",
      "execution_count": 11,
      "metadata": {
        "id": "l2LwE6TqWMsn"
      },
      "outputs": [],
      "source": [
        "def is_superadditive(characteristic_function, p):\n",
        "    power_set = powerset(p)\n",
        "    superadditive = True\n",
        "\n",
        "    for i in power_set:\n",
        "        for j in power_set:\n",
        "            # check that the two coalitions i and j are disjoint\n",
        "            if len(i.intersection(j)) == 0:\n",
        "                sum = characteristic_function[i] + characteristic_function[j]\n",
        "                union = characteristic_function[i.union(j)]\n",
        "                if union < sum:\n",
        "                    superadditive = False\n",
        "                    break\n",
        "\n",
        "    return superadditive"
      ]
    },
    {
      "cell_type": "code",
      "execution_count": 12,
      "metadata": {
        "colab": {
          "base_uri": "https://localhost:8080/"
        },
        "id": "KhT_cAYF_W-G",
        "outputId": "04f5c27a-0e8e-467f-8f88-224effefead6"
      },
      "outputs": [
        {
          "name": "stdout",
          "output_type": "stream",
          "text": [
            "Is the game superadditive? True\n"
          ]
        }
      ],
      "source": [
        "print(\"Is the game superadditive?\", is_superadditive(v, agents))"
      ]
    },
    {
      "cell_type": "code",
      "execution_count": 13,
      "metadata": {
        "id": "ZVJYowxEB16-"
      },
      "outputs": [],
      "source": [
        "from math import factorial\n",
        "\n",
        "# Calculate the Shapley value for a given player, using the second equation\n",
        "def shapley_value(players, player, characteristic_function):\n",
        "    power_set = powerset(players - {player})\n",
        "    shapley = 0\n",
        "\n",
        "    for c in power_set:\n",
        "        first_part = factorial(len(c)) * factorial(len(players) - len(c) - 1)\n",
        "        second_part = first_part / factorial(len(players))\n",
        "        third_part = characteristic_function[c.union(player)] - characteristic_function[c]\n",
        "        shapley += second_part * third_part\n",
        "\n",
        "    return shapley\n",
        "\n",
        "# Returns a dictionary with the Shapley value for each player\n",
        "def shapley(players, characteristic_function):\n",
        "    # With the function max, we get the grand coalition from the characteristic function\n",
        "    return {player: shapley_value(players, player, characteristic_function) for player in max(characteristic_function)}"
      ]
    },
    {
      "cell_type": "code",
      "execution_count": 14,
      "metadata": {
        "colab": {
          "base_uri": "https://localhost:8080/"
        },
        "id": "GD2Ozpp8PoME",
        "outputId": "74179447-66cd-4f47-ce5c-863fe9788f65"
      },
      "outputs": [
        {
          "name": "stdout",
          "output_type": "stream",
          "text": [
            "{'2': 16.666666666666664, '1': 0.0, '4': 66.66666666666666, '3': 16.666666666666664}\n"
          ]
        }
      ],
      "source": [
        "shapley_values = shapley(agents, v)\n",
        "print(shapley_values)\n",
        "\n",
        "#  Expected Shapley values: {'2': 16.666666666666664, '4': 66.66666666666666, '3': 16.666666666666664, '1': 0.0}\n",
        "\n",
        "#  Notice that:\n",
        "#    - agent 1 is a dummy player, hence has value 0\n",
        "#    - agent 2 and 3 are symmetric player, hence they have the same value\n",
        "#    - agent 4 is a pivotal player, because without its contribution the group can't complete the task. Hence, it has the highest value"
      ]
    },
    {
      "cell_type": "markdown",
      "metadata": {
        "id": "yUiRAK6OCa4a"
      },
      "source": [
        "### **Core**"
      ]
    },
    {
      "cell_type": "code",
      "execution_count": 25,
      "metadata": {
        "id": "EzTqrDekAO4R"
      },
      "outputs": [],
      "source": [
        "# Check if each player's outcome (that is, each shapley value) is positive\n",
        "def is_positive(outcome):\n",
        "    for i in outcome.values():\n",
        "        if i < 0:\n",
        "            return False\n",
        "    return True\n",
        "\n",
        "\n",
        "# Check if all the value (reward) is allocated in the outcome\n",
        "def is_efficient(outcome, characteristic_function, players):\n",
        "    grand_coalition = characteristic_function[frozenset(players)]\n",
        "    sum = 0\n",
        "    for i in outcome.values():\n",
        "        sum += i\n",
        "    # We use the function round() for a correct rounding\n",
        "    # The function int() just cast the number into an integere by truncating the decimals\n",
        "    return round(sum) == grand_coalition\n",
        "\n",
        "\n",
        "# Check if an outcome for a given game is stable, that is no coalition wants to deviate from the outcome\n",
        "def is_stable(outcome, characteristic_function):\n",
        "    for c in characteristic_function.keys():\n",
        "        sum = 0\n",
        "        for i in c:\n",
        "            sum += outcome[i]\n",
        "        if sum < characteristic_function[c]:\n",
        "            print(\"----- Stability check -----\")\n",
        "            print(\"Coalition for which the outcome is not stable: \", c)\n",
        "            print(\"Total outcome of the non-stable coalition: \", sum, \" < \", \"v(coalition): \", characteristic_function[c])\n",
        "            return False\n",
        "\n",
        "    return True\n",
        "\n",
        "\n",
        "# This function applies the definition of core to check whether an outcome is in the core of a game\n",
        "def is_in_the_core(outcome, characteristic_function, players):\n",
        "    positive = is_positive(outcome)\n",
        "    efficient = is_efficient(outcome, characteristic_function, players)\n",
        "    stable = is_stable(outcome, characteristic_function)\n",
        "\n",
        "    print(\"--------------------------\")\n",
        "    print(\"Is the outcome positive? \", positive)\n",
        "    print(\"--------------------------\")\n",
        "    print(\"Is the outcome efficient? \", efficient)\n",
        "    print(\"--------------------------\")\n",
        "    print(\"Is the outcome stable? \", stable)\n",
        "    print(\"--------------------------\")\n",
        "    return positive and efficient and stable"
      ]
    },
    {
      "cell_type": "code",
      "execution_count": 27,
      "metadata": {
        "colab": {
          "base_uri": "https://localhost:8080/"
        },
        "id": "yEuanFVCAUVQ",
        "outputId": "e5208463-7156-4728-accf-7af8be73fa2a"
      },
      "outputs": [
        {
          "name": "stdout",
          "output_type": "stream",
          "text": [
            "----- Stability check -----\n",
            "Coalition for which the outcome is not stable:  frozenset({'4', '3'})\n",
            "Total outcome of the non-stable coalition:  83.33333333333331  <  v(coalition):  100\n",
            "--------------------------\n",
            "Is the outcome positive?  True\n",
            "--------------------------\n",
            "Is the outcome efficient?  True\n",
            "--------------------------\n",
            "Is the outcome stable?  False\n",
            "--------------------------\n",
            "\n",
            "Is in the core?  False\n"
          ]
        }
      ],
      "source": [
        "# Checking if the Shapley value is in the core of the game means checking:\n",
        "#   - positivity\n",
        "#   - efficiency\n",
        "#   - stability\n",
        "\n",
        "# According to the example, the shapley values should be {'4': 66.66666666666666, '3': 16.666666666666664, '2': 16.666666666666664, '1': 0.0}\n",
        "# Hence, the outcome (Shapley values) should be:\n",
        "# POSITIVE: since every player outcome is >= 0,\n",
        "# EFFICIENT: since the sum of all the outcomes is equal to the characteristic_function value of the grand coalition\n",
        "# NOT STABLE: since there are some coalitions C such that the sum of the shapley values of the players of C is < the value of the characteristic_function of C\n",
        "# Example: coalition {'4', '2'}\n",
        "print(\"\\nIs in the core? \", is_in_the_core(shapley_values, v, agents))"
      ]
    },
    {
      "cell_type": "markdown",
      "metadata": {
        "id": "ylZZbi-pBNC_"
      },
      "source": [
        "## **Task 2**\n",
        "\n",
        "Assume that each agent i∈ N might freely decide whether to join the group in order to complete the task. In particular, each agent incurs a fixed cost of c_i to join the group and s/he is selfish interested, so that s/he would like that the revenue s/he gets by collaboration covers this expense (in the example, let c_1 = c_2 = 10$, c_3 = 20$, c_4 = 40$. Assume that the revenue is divided according to the Shapley value of the coalitional game induced by the agents that join the group (as in item 1). Then, check whether the resulting strategic setting, where each agent has two actions (joint, not join), admits a pure Nash equilibrium and computes one, if any.\n"
      ]
    },
    {
      "cell_type": "code",
      "execution_count": null,
      "metadata": {
        "colab": {
          "base_uri": "https://localhost:8080/"
        },
        "id": "3RQfzgvEjt-d",
        "outputId": "8537ef23-a5ba-4497-803f-340464255f5a"
      },
      "outputs": [
        {
          "data": {
            "text/plain": [
              "[frozenset({'2', '4'}), frozenset()]"
            ]
          },
          "execution_count": 9,
          "metadata": {},
          "output_type": "execute_result"
        }
      ],
      "source": [
        "from typing import FrozenSet\n",
        "\n",
        "costs = {\n",
        "    \"1\":10,\n",
        "    \"2\":10,\n",
        "    \"3\":20,\n",
        "    \"4\":40\n",
        "}\n",
        "\n",
        "def compute_decisions(characterictic_function: dict, players_costs : dict, shapley_value: dict) -> dict:\n",
        "  coalition_decisions = {}\n",
        "  for coalition in characterictic_function:\n",
        "    if characterictic_function[coalition] != 100:\n",
        "      continue\n",
        "    else:\n",
        "      players_decisions = {}\n",
        "      for player in coalition:\n",
        "        player_cost_and_decision = {}\n",
        "        if players_costs[player] > shapley_value[player]:\n",
        "          player_cost_and_decision[shapley_value[player] - players_costs[player]] = \"NO\"\n",
        "        else:\n",
        "          player_cost_and_decision[shapley_value[player] - players_costs[player]] = \"YES\"\n",
        "        players_decisions[player] = player_cost_and_decision\n",
        "      coalition_decisions[coalition] = players_decisions\n",
        "\n",
        "  return coalition_decisions\n",
        "\n",
        "decisions = compute_decisions(v,players_costs=costs, shapley_value=shapley_values)\n",
        "\n",
        "def print_decisions(decisions: dict):\n",
        "    for coalition, players_decisions in decisions.items():\n",
        "        print(f\"Coalizione: {coalition}\")\n",
        "        for player, decision in players_decisions.items():\n",
        "            for net_value, response in decision.items():\n",
        "                print(f\"  Giocatore {player}: Guadagno netto {net_value:.2f}, Decisione: {response}\")\n",
        "        print(\"-\" * 30)  # Separatore tra coalizioni\n",
        "\n",
        "\n",
        "def verify_nash_equilibrium(coalition: FrozenSet[str], characteristic_function: dict[FrozenSet[str], int], shapley_values: dict[str, int], agents_costs: dict[str, int]) -> bool:\n",
        "\n",
        "    coalition_value = characteristic_function[coalition]\n",
        "    # Check for players inside the coalition don't want to quit\n",
        "\n",
        "    shapley_revenue = 0\n",
        "    for player in coalition:\n",
        "      if agents_costs[player] > shapley_values[player]:\n",
        "        return False\n",
        "      shapley_revenue += shapley_values[player]\n",
        "\n",
        "    if coalition_value < shapley_revenue:\n",
        "      return False\n",
        "\n",
        "\n",
        "\n",
        "    # Check for players outside the coalition don't want to join\n",
        "\n",
        "    all_players = frozenset(shapley_values.keys())\n",
        "    outside_players = all_players - coalition\n",
        "\n",
        "    # WITH THIS WE HAVE CHECKED ALL PLAYERS, SO ITS N\n",
        "    for player in outside_players:\n",
        "      if agents_costs[player] <= shapley_values[player]:\n",
        "\n",
        "        new_coalition = coalition.union(frozenset([player]))\n",
        "        new_coalition_value = characteristic_function[new_coalition]\n",
        "\n",
        "        new_shapley_revenue = 0\n",
        "\n",
        "        # THIS CAN BE N IN WORST CASE\n",
        "        for player2 in new_coalition:\n",
        "          new_shapley_revenue += shapley_values[player2]\n",
        "\n",
        "        if new_coalition_value < new_shapley_revenue:\n",
        "          continue\n",
        "        else:\n",
        "          return False\n",
        "\n",
        "    # IN TOTAL IS N^2\n",
        "\n",
        "    return True\n",
        "\n",
        "\n",
        "def compute_nash_equilibrium_coalitions(characteristic_function: dict[FrozenSet[str], int], shapley_values: dict[str, int], agents_costs: dict[str, int]) -> list[FrozenSet[str]]:\n",
        "\n",
        "    # 2^N POSSIBILE ITERATIONS (POWERSET SIZE)\n",
        "    good_coalitions = []\n",
        "    for coalition in characteristic_function.keys():\n",
        "        if verify_nash_equilibrium(coalition, characteristic_function, shapley_values, agents_costs):\n",
        "            good_coalitions.append(coalition)\n",
        "    return good_coalitions\n",
        "\n",
        "compute_nash_equilibrium_coalitions(characteristic_function=v, shapley_values=shapley_values, agents_costs=costs)"
      ]
    },
    {
      "cell_type": "markdown",
      "metadata": {
        "id": "g5W9wKVUBfBE"
      },
      "source": [
        "## **Task 3**\n",
        "\n",
        "Assume that all agents participate to the setting, but they might cheat on the cost c_i, and consider a setting where a mechanism has to identify a group of agents that is capable of completing the task with the minimum overall cost. Then, compute a payment scheme that provides incentives to truthfully report such costs."
      ]
    },
    {
      "cell_type": "code",
      "execution_count": null,
      "metadata": {
        "id": "5OF5lRL1BkJy"
      },
      "outputs": [],
      "source": [
        "\"\"\"\n",
        "Setting: combinatorial auctions (VCG Auction)\n",
        "\n",
        "Bidders: the agents\n",
        "Items: the skills\n",
        "\n",
        "Each agent (bidder) \"i\" values their set of skills \"S_i\" with the cost \"c_i\", thus we have:\n",
        "    value_i(S_i) = c_i\n",
        "\n",
        "Going with the given example we have the following set of bids:\n",
        "    {\n",
        "        '1': {['s1']: 10$},\n",
        "        '2': {['s1', 's2']: 10$},\n",
        "        '3': {['s1', 's2']: 20$},\n",
        "        '4': {['s3']: 40$}\n",
        "    }\n",
        "\n",
        "We use the \"compute_winner\" function as the mechanism that identifies the group of agent capable of completing the task with the minimum cost\n",
        "\n",
        "We use the \"VCG_auction\" function to determine the payment for each agent in the group\n",
        "\"\"\"\n",
        "\n",
        "bids = {\n",
        "        '1': {frozenset(['s1']): 10},\n",
        "        '2': {frozenset(['s1', 's2']): 10},\n",
        "        '3': {frozenset(['s1', 's2']): 30},\n",
        "        '4': {frozenset(['s3']): 40}\n",
        "    }"
      ]
    },
    {
      "cell_type": "code",
      "execution_count": null,
      "metadata": {
        "id": "s_3mWNZsI695"
      },
      "outputs": [],
      "source": [
        "from itertools import combinations\n",
        "\n",
        "# A function to generate the powerset: it returns a list of 2^(n-1) frozen sets\n",
        "def powerset(List):\n",
        "    subs = [frozenset(j) for i in range(len(List)) for j in combinations(List, i+1)]\n",
        "    # for item in subs:\n",
        "    #   print(item)\n",
        "    return subs"
      ]
    },
    {
      "cell_type": "code",
      "execution_count": null,
      "metadata": {
        "id": "-pGw-RYfI695"
      },
      "outputs": [],
      "source": [
        "import sys\n",
        "import copy as cp\n",
        "\n",
        "def from_dict_to_list_bids(bids):\n",
        "    l = [(bidder, itemset, value) for bidder in bids for itemset,value in bids[bidder].items()]\n",
        "    return l\n",
        "\n",
        "\n",
        "def is_admissible(allocation) -> bool:\n",
        "    '''\n",
        "    This function returns True if the allocation is admissible and False otherwise.\n",
        "\n",
        "    An allocation is admissible if and only if the following two conditions are satisfied:\n",
        "        1) every item is allocated\n",
        "        2) the allocated bundles are disjoint\n",
        "\n",
        "    An allocation has form:\n",
        "        [('a', {'I1', 'I2'}, 10), ...]\n",
        "    Where:\n",
        "        1) 'a' is a bidder\n",
        "        2) {'I1', 'I2'} is an itemset\n",
        "        3) 10 is the value of the itemset for the bidder\n",
        "    '''\n",
        "    bidders = []\n",
        "    for bidder, _, _ in allocation:\n",
        "      bidders.append(bidder)\n",
        "\n",
        "    # print(f\"{bidders} => {v[frozenset(bidders)]}\")\n",
        "    return v[frozenset(bidders)] == 100\n",
        "\n",
        "\n",
        "def pairwise_disjoint(sets) -> bool:\n",
        "    '''\n",
        "    This function checks wether the sets contained in a list are pairwise disjoint\n",
        "    '''\n",
        "    for i in range(len(sets)):\n",
        "      for j in range(i+1, len(sets)):\n",
        "        for item in sets[i]:\n",
        "          if item in sets[j]:\n",
        "            return False\n",
        "    return True\n",
        "\n",
        "\n",
        "def compute_allocation_value(allocation) -> int:\n",
        "    '''\n",
        "    An allocation is a list of tuples with the following semantic: (bidder, itemset, value).\n",
        "    This function computes the total value of an allocation.\n",
        "    '''\n",
        "    ret = 0\n",
        "    for bidder, itemset, value in allocation:\n",
        "      ret += value\n",
        "    return ret\n",
        "\n",
        "\n",
        "def compute_winner(bids):\n",
        "\n",
        "    list_bids: list = from_dict_to_list_bids(bids)\n",
        "\n",
        "    print(f\"Total computation: 2^{len(list_bids)}\")\n",
        "\n",
        "    optimal_assignment: list = []\n",
        "    optimal_value: int = sys.maxsize # maximum possible integer, since we have to minimize the cost\n",
        "\n",
        "    # generate the powerset of bids\n",
        "    # for each allocation in the powerset, check if it is admissible and pairwise disjoint\n",
        "      # then compute allocation value, confront it with the optimal value and if it is greater update optimal_assignment and optimal_value\n",
        "    for assignment in powerset(list_bids):\n",
        "      if is_admissible(assignment):\n",
        "        val = compute_allocation_value(assignment)\n",
        "\n",
        "        if val < optimal_value:\n",
        "          optimal_assignment = assignment\n",
        "          optimal_value = val\n",
        "\n",
        "    if optimal_value == sys.maxsize:\n",
        "      # no solution was admissible, 2 scenarios:\n",
        "      #   - bad input configuration\n",
        "      #   - computing VCG payment of pivotal agent\n",
        "      return [], -1\n",
        "\n",
        "    return optimal_assignment, optimal_value\n",
        "\n",
        "\n",
        "def VCG_auction(bids):\n",
        "\n",
        "    optimal_allocation, tot = compute_winner(bids)\n",
        "    if (tot == -1):\n",
        "      print(\"Bad formed input: skill set is not entarely covered\")\n",
        "      sys.exit()\n",
        "\n",
        "    ret: list[ tuple[str, frozenset, int] ] = []\n",
        "    total_payment: int = 0\n",
        "\n",
        "    for bidder, itemset, value in optimal_allocation:\n",
        "      bids_copy = cp.deepcopy(bids)\n",
        "      bids_copy.pop(bidder, None) # to find the winner if the current bidder didn't partecipate\n",
        "\n",
        "      sum_values_without_current = compute_winner(bids_copy)[1]\n",
        "      sum_values_other_bidders = tot - value\n",
        "\n",
        "      payment = 0\n",
        "\n",
        "      if sum_values_without_current == -1:\n",
        "        # pivotal agent, we give him exactly the entrance cost\n",
        "        payment = list(bids[bidder].values())[0]\n",
        "      else:\n",
        "        payment = sum_values_without_current - sum_values_other_bidders\n",
        "\n",
        "      ret.append((bidder, itemset, payment))\n",
        "      total_payment += payment\n",
        "\n",
        "    if total_payment > reward:\n",
        "      print(f\"Auction aborted: the total payment exeeds the reward.\\nPayments: {ret}, Reward: {reward}\")\n",
        "      sys.exit()\n",
        "\n",
        "    return ret"
      ]
    },
    {
      "cell_type": "code",
      "execution_count": null,
      "metadata": {
        "colab": {
          "base_uri": "https://localhost:8080/"
        },
        "id": "jLTk6HQDI696",
        "outputId": "47b105ed-3bd6-4125-a617-d554f959a6b1"
      },
      "outputs": [
        {
          "name": "stdout",
          "output_type": "stream",
          "text": [
            "Total computation: 2^4\n",
            "(frozenset({('4', frozenset({'s3'}), 40), ('2', frozenset({'s2', 's1'}), 10)}), 50)\n"
          ]
        }
      ],
      "source": [
        "print(compute_winner(bids))"
      ]
    },
    {
      "cell_type": "code",
      "execution_count": null,
      "metadata": {
        "colab": {
          "base_uri": "https://localhost:8080/"
        },
        "id": "zT6jnHPRL5Rq",
        "outputId": "1aee992c-a12d-4894-80c4-5aa81e8f81d8"
      },
      "outputs": [
        {
          "name": "stdout",
          "output_type": "stream",
          "text": [
            "Total computation: 2^4\n",
            "Total computation: 2^3\n",
            "Total computation: 2^3\n",
            "[('4', frozenset({'s3'}), 40), ('2', frozenset({'s2', 's1'}), 30)]\n"
          ]
        }
      ],
      "source": [
        "print(VCG_auction(bids))"
      ]
    }
  ],
  "metadata": {
    "colab": {
      "provenance": []
    },
    "kernelspec": {
      "display_name": "Python 3",
      "name": "python3"
    },
    "language_info": {
      "name": "python"
    }
  },
  "nbformat": 4,
  "nbformat_minor": 0
}
